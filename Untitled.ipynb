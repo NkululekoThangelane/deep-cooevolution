{
 "cells": [
  {
   "cell_type": "code",
   "execution_count": 10,
   "metadata": {},
   "outputs": [
    {
     "name": "stdout",
     "output_type": "stream",
     "text": [
      "Herec\n",
      "Heres\n",
      "Here\n"
     ]
    }
   ],
   "source": [
    "from __future__ import print_function\n",
    "import argparse\n",
    "import torch\n",
    "import torch.nn as nn\n",
    "import torch.nn.functional as F\n",
    "import torch.optim as optim\n",
    "from torchvision import datasets, transforms\n",
    "from torch.autograd import Variable\n",
    "print(\"Herec\")\n",
    "# Training settings\n",
    "\n",
    "batch_size=1000\n",
    "log_interval=10\n",
    "kwargs = {'num_workers': 1, 'pin_memory': True} if False else {}\n",
    "train_loader = torch.utils.data.DataLoader(\n",
    "    datasets.MNIST('../data', train=True, download=True,\n",
    "                   transform=transforms.Compose([\n",
    "                       transforms.ToTensor(),\n",
    "                       transforms.Normalize((0.1307,), (0.3081,))\n",
    "                   ])),\n",
    "    batch_size=batch_size, shuffle=True, **kwargs)\n",
    "test_loader = torch.utils.data.DataLoader(\n",
    "    datasets.MNIST('../data', train=False, transform=transforms.Compose([\n",
    "                       transforms.ToTensor(),\n",
    "                       transforms.Normalize((0.1307,), (0.3081,))\n",
    "                   ])),\n",
    "    batch_size=batch_size, shuffle=True, **kwargs)\n",
    "\n",
    "\n",
    "class Net(nn.Module):\n",
    "    def __init__(self):\n",
    "        super(Net, self).__init__()\n",
    "        self.conv1 = nn.Conv2d(1, 10, kernel_size=5)\n",
    "        self.conv2 = nn.Conv2d(10, 20, kernel_size=5)\n",
    "        self.conv2_drop = nn.Dropout2d()\n",
    "        self.fc1 = nn.Linear(320, 50)\n",
    "        self.fc2 = nn.Linear(50, 10)\n",
    "\n",
    "    def forward(self, x):\n",
    "        x = F.relu(F.max_pool2d(self.conv1(x), 2))\n",
    "        x = F.relu(F.max_pool2d(self.conv2_drop(self.conv2(x)), 2))\n",
    "        x = x.view(-1, 320)\n",
    "        x = F.relu(self.fc1(x))\n",
    "        x = F.dropout(x, training=self.training)\n",
    "        x = self.fc2(x)\n",
    "        return F.log_softmax(x)\n",
    "\n",
    "model = Net()\n",
    "\n",
    "\n",
    "optimizer = optim.SGD(model.parameters(), lr=0.01, momentum=0.5)\n",
    "print(\"Heres\")\n",
    "def train(epoch):\n",
    "    model.train()\n",
    "    for batch_idx, (data, target) in enumerate(train_loader):\n",
    "\n",
    "        data, target = Variable(data), Variable(target)\n",
    "        optimizer.zero_grad()\n",
    "        output = model(data)\n",
    "        loss = F.nll_loss(output, target)\n",
    "        loss.backward()\n",
    "        optimizer.step()\n",
    "        if batch_idx % log_interval == 0:\n",
    "            print('Train Epoch: {} [{}/{} ({:.0f}%)]\\tLoss: {:.6f}'.format(\n",
    "                epoch, batch_idx * len(data), len(train_loader.dataset),\n",
    "                100. * batch_idx / len(train_loader), loss.data[0]))\n",
    "\n",
    "print(\"Here\")\n",
    "def test():\n",
    "    model.eval()\n",
    "    test_loss = 0\n",
    "    correct = 0\n",
    "    for data, target in test_loader:\n",
    "\n",
    "        data, target = Variable(data, volatile=True), Variable(target)\n",
    "        output = model(data)\n",
    "        test_loss += F.nll_loss(output, target, size_average=False).data[0] # sum up batch loss\n",
    "        pred = output.data.max(1, keepdim=True)[1] # get the index of the max log-probability\n",
    "        correct += pred.eq(target.data.view_as(pred)).cpu().sum()\n",
    "\n",
    "    test_loss /= len(test_loader.dataset)\n",
    "    print('\\nTest set: Average loss: {:.4f}, Accuracy: {}/{} ({:.0f}%)\\n'.format(\n",
    "        test_loss, correct, len(test_loader.dataset),\n",
    "        100. * correct / len(test_loader.dataset)))\n",
    "\n",
    "\n"
   ]
  },
  {
   "cell_type": "code",
   "execution_count": 11,
   "metadata": {},
   "outputs": [
    {
     "name": "stdout",
     "output_type": "stream",
     "text": [
      "Train Epoch: 1 [0/60000 (0%)]\tLoss: 2.318305\n",
      "Train Epoch: 1 [10000/60000 (17%)]\tLoss: 2.302665\n",
      "Train Epoch: 1 [20000/60000 (33%)]\tLoss: 2.285777\n",
      "Train Epoch: 1 [30000/60000 (50%)]\tLoss: 2.267241\n",
      "Train Epoch: 1 [40000/60000 (67%)]\tLoss: 2.252940\n",
      "Train Epoch: 1 [50000/60000 (83%)]\tLoss: 2.232708\n",
      "\n",
      "Test set: Average loss: 2.1705, Accuracy: 4354/10000 (44%)\n",
      "\n",
      "Train Epoch: 2 [0/60000 (0%)]\tLoss: 2.199685\n",
      "Train Epoch: 2 [10000/60000 (17%)]\tLoss: 2.152265\n",
      "Train Epoch: 2 [20000/60000 (33%)]\tLoss: 2.116043\n",
      "Train Epoch: 2 [30000/60000 (50%)]\tLoss: 2.027461\n",
      "Train Epoch: 2 [40000/60000 (67%)]\tLoss: 1.947841\n",
      "Train Epoch: 2 [50000/60000 (83%)]\tLoss: 1.866465\n",
      "\n",
      "Test set: Average loss: 1.5401, Accuracy: 6694/10000 (67%)\n",
      "\n",
      "Train Epoch: 3 [0/60000 (0%)]\tLoss: 1.708083\n",
      "Train Epoch: 3 [10000/60000 (17%)]\tLoss: 1.644072\n",
      "Train Epoch: 3 [20000/60000 (33%)]\tLoss: 1.511418\n",
      "Train Epoch: 3 [30000/60000 (50%)]\tLoss: 1.442912\n",
      "Train Epoch: 3 [40000/60000 (67%)]\tLoss: 1.346583\n",
      "Train Epoch: 3 [50000/60000 (83%)]\tLoss: 1.281068\n",
      "\n",
      "Test set: Average loss: 0.8413, Accuracy: 8171/10000 (82%)\n",
      "\n",
      "Train Epoch: 4 [0/60000 (0%)]\tLoss: 1.192032\n",
      "Train Epoch: 4 [10000/60000 (17%)]\tLoss: 1.180329\n",
      "Train Epoch: 4 [20000/60000 (33%)]\tLoss: 1.115287\n",
      "Train Epoch: 4 [30000/60000 (50%)]\tLoss: 1.063076\n",
      "Train Epoch: 4 [40000/60000 (67%)]\tLoss: 0.985679\n",
      "Train Epoch: 4 [50000/60000 (83%)]\tLoss: 0.983018\n",
      "\n",
      "Test set: Average loss: 0.5704, Accuracy: 8595/10000 (86%)\n",
      "\n",
      "Train Epoch: 5 [0/60000 (0%)]\tLoss: 0.922138\n",
      "Train Epoch: 5 [10000/60000 (17%)]\tLoss: 0.904009\n",
      "Train Epoch: 5 [20000/60000 (33%)]\tLoss: 0.875087\n",
      "Train Epoch: 5 [30000/60000 (50%)]\tLoss: 0.900325\n",
      "Train Epoch: 5 [40000/60000 (67%)]\tLoss: 0.821955\n",
      "Train Epoch: 5 [50000/60000 (83%)]\tLoss: 0.828290\n",
      "\n",
      "Test set: Average loss: 0.4567, Accuracy: 8755/10000 (88%)\n",
      "\n",
      "Train Epoch: 6 [0/60000 (0%)]\tLoss: 0.830844\n",
      "Train Epoch: 6 [10000/60000 (17%)]\tLoss: 0.825014\n",
      "Train Epoch: 6 [20000/60000 (33%)]\tLoss: 0.824089\n",
      "Train Epoch: 6 [30000/60000 (50%)]\tLoss: 0.770935\n",
      "Train Epoch: 6 [40000/60000 (67%)]\tLoss: 0.733376\n",
      "Train Epoch: 6 [50000/60000 (83%)]\tLoss: 0.749939\n",
      "\n",
      "Test set: Average loss: 0.3917, Accuracy: 8926/10000 (89%)\n",
      "\n",
      "Train Epoch: 7 [0/60000 (0%)]\tLoss: 0.737207\n",
      "Train Epoch: 7 [10000/60000 (17%)]\tLoss: 0.729045\n",
      "Train Epoch: 7 [20000/60000 (33%)]\tLoss: 0.755228\n",
      "Train Epoch: 7 [30000/60000 (50%)]\tLoss: 0.690857\n",
      "Train Epoch: 7 [40000/60000 (67%)]\tLoss: 0.605803\n",
      "Train Epoch: 7 [50000/60000 (83%)]\tLoss: 0.687410\n",
      "\n",
      "Test set: Average loss: 0.3489, Accuracy: 9031/10000 (90%)\n",
      "\n",
      "Train Epoch: 8 [0/60000 (0%)]\tLoss: 0.664809\n",
      "Train Epoch: 8 [10000/60000 (17%)]\tLoss: 0.650421\n",
      "Train Epoch: 8 [20000/60000 (33%)]\tLoss: 0.627567\n",
      "Train Epoch: 8 [30000/60000 (50%)]\tLoss: 0.599875\n",
      "Train Epoch: 8 [40000/60000 (67%)]\tLoss: 0.667455\n",
      "Train Epoch: 8 [50000/60000 (83%)]\tLoss: 0.595332\n",
      "\n",
      "Test set: Average loss: 0.3109, Accuracy: 9169/10000 (92%)\n",
      "\n",
      "Train Epoch: 9 [0/60000 (0%)]\tLoss: 0.608067\n",
      "Train Epoch: 9 [10000/60000 (17%)]\tLoss: 0.620154\n",
      "Train Epoch: 9 [20000/60000 (33%)]\tLoss: 0.582780\n",
      "Train Epoch: 9 [30000/60000 (50%)]\tLoss: 0.590971\n",
      "Train Epoch: 9 [40000/60000 (67%)]\tLoss: 0.574149\n",
      "Train Epoch: 9 [50000/60000 (83%)]\tLoss: 0.636757\n",
      "\n",
      "Test set: Average loss: 0.2824, Accuracy: 9248/10000 (92%)\n",
      "\n",
      "Train Epoch: 10 [0/60000 (0%)]\tLoss: 0.570106\n",
      "Train Epoch: 10 [10000/60000 (17%)]\tLoss: 0.531089\n",
      "Train Epoch: 10 [20000/60000 (33%)]\tLoss: 0.557148\n",
      "Train Epoch: 10 [30000/60000 (50%)]\tLoss: 0.503946\n",
      "Train Epoch: 10 [40000/60000 (67%)]\tLoss: 0.562988\n",
      "Train Epoch: 10 [50000/60000 (83%)]\tLoss: 0.509285\n",
      "\n",
      "Test set: Average loss: 0.2563, Accuracy: 9309/10000 (93%)\n",
      "\n"
     ]
    }
   ],
   "source": [
    "for epoch in range(1, 10 + 1):\n",
    "    train(epoch)\n",
    "    \n",
    "    test()"
   ]
  },
  {
   "cell_type": "code",
   "execution_count": 13,
   "metadata": {},
   "outputs": [],
   "source": [
    "params =[]"
   ]
  },
  {
   "cell_type": "code",
   "execution_count": 14,
   "metadata": {
    "collapsed": true
   },
   "outputs": [],
   "source": [
    "for p in model.parameters():\n",
    "    \n",
    "    params.append(p)"
   ]
  },
  {
   "cell_type": "code",
   "execution_count": 25,
   "metadata": {},
   "outputs": [],
   "source": [
    "import random"
   ]
  },
  {
   "cell_type": "code",
   "execution_count": 51,
   "metadata": {},
   "outputs": [
    {
     "name": "stdout",
     "output_type": "stream",
     "text": [
      "-6.523857339093791\n",
      "-8.86121662416821\n",
      "5.519843646082661\n",
      "8.112338846881984\n",
      "-6.214104317002074\n",
      "-9.93636307063169\n",
      "7.846369982518128\n",
      "6.325105961732996\n",
      "9.786715696355627\n",
      "-10.850924464050342\n"
     ]
    }
   ],
   "source": [
    "\n",
    "for i in range(10):\n",
    "    print(random.uniform(-10.9, 10.9))"
   ]
  },
  {
   "cell_type": "code",
   "execution_count": 52,
   "metadata": {
    "collapsed": true
   },
   "outputs": [],
   "source": [
    "def train_batch_list(train_loader):\n",
    "    list_data=[]\n",
    "    list_target=[]\n",
    "    for data, target in train_loader:\n",
    "        list_data.append(data)\n",
    "        list_target.append(target)\n",
    "\n",
    "    return list_data, list_target"
   ]
  },
  {
   "cell_type": "code",
   "execution_count": 53,
   "metadata": {
    "collapsed": true
   },
   "outputs": [],
   "source": [
    "data, target = train_batch_list(train_loader)"
   ]
  },
  {
   "cell_type": "code",
   "execution_count": 69,
   "metadata": {
    "collapsed": true
   },
   "outputs": [],
   "source": [
    "d, t = Variable(data[1], volatile=True), Variable(target[1])"
   ]
  },
  {
   "cell_type": "code",
   "execution_count": 70,
   "metadata": {},
   "outputs": [],
   "source": [
    "output = model(d)"
   ]
  },
  {
   "cell_type": "code",
   "execution_count": 71,
   "metadata": {},
   "outputs": [
    {
     "data": {
      "text/plain": [
       "Variable containing:\n",
       "-0.5430\n",
       "-8.3239\n",
       "-1.2156\n",
       "-5.3698\n",
       "-4.1394\n",
       "-5.0828\n",
       "-2.6819\n",
       "-4.5179\n",
       "-5.9189\n",
       "-4.3132\n",
       "[torch.FloatTensor of size 10]"
      ]
     },
     "execution_count": 71,
     "metadata": {},
     "output_type": "execute_result"
    }
   ],
   "source": [
    "output[1]"
   ]
  },
  {
   "cell_type": "code",
   "execution_count": 72,
   "metadata": {},
   "outputs": [
    {
     "data": {
      "text/plain": [
       "Variable containing:\n",
       " 1\n",
       " 9\n",
       " 1\n",
       "⋮ \n",
       " 3\n",
       " 7\n",
       " 8\n",
       "[torch.LongTensor of size 1000]"
      ]
     },
     "execution_count": 72,
     "metadata": {},
     "output_type": "execute_result"
    }
   ],
   "source": [
    "t"
   ]
  },
  {
   "cell_type": "code",
   "execution_count": 73,
   "metadata": {},
   "outputs": [],
   "source": [
    "pred=output.data.max(1, keepdim=True)[1]"
   ]
  },
  {
   "cell_type": "code",
   "execution_count": 74,
   "metadata": {},
   "outputs": [],
   "source": [
    "correct = pred.eq(t.data.view_as(pred)).cpu().sum()"
   ]
  },
  {
   "cell_type": "code",
   "execution_count": 75,
   "metadata": {},
   "outputs": [
    {
     "data": {
      "text/plain": [
       "931"
      ]
     },
     "execution_count": 75,
     "metadata": {},
     "output_type": "execute_result"
    }
   ],
   "source": [
    "correct"
   ]
  },
  {
   "cell_type": "code",
   "execution_count": null,
   "metadata": {
    "collapsed": true
   },
   "outputs": [],
   "source": []
  }
 ],
 "metadata": {
  "kernelspec": {
   "display_name": "Python 3",
   "language": "python",
   "name": "python3"
  },
  "language_info": {
   "codemirror_mode": {
    "name": "ipython",
    "version": 3
   },
   "file_extension": ".py",
   "mimetype": "text/x-python",
   "name": "python",
   "nbconvert_exporter": "python",
   "pygments_lexer": "ipython3",
   "version": "3.6.1"
  }
 },
 "nbformat": 4,
 "nbformat_minor": 2
}
